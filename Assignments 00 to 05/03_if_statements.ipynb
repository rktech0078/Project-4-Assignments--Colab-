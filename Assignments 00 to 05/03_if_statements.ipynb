{
 "cells": [
  {
   "cell_type": "markdown",
   "metadata": {},
   "source": [
    "# **01_print_events**"
   ]
  },
  {
   "cell_type": "code",
   "execution_count": 8,
   "metadata": {},
   "outputs": [
    {
     "name": "stdout",
     "output_type": "stream",
     "text": [
      "0, 2, 4, 6, 8, 10, 12, 14, 16, 18, 20, 22, 24, 26, 28, 30, 32, 34, 36, 38, "
     ]
    }
   ],
   "source": [
    "def main():\n",
    "    \n",
    "    for i in range(20):\n",
    "        \n",
    "        print(2 * i, end=\", \")\n",
    "        \n",
    "if __name__ == \"__main__\":\n",
    "    main()"
   ]
  },
  {
   "cell_type": "markdown",
   "metadata": {},
   "source": [
    "# **02_international_voting_age**"
   ]
  },
  {
   "cell_type": "code",
   "execution_count": 14,
   "metadata": {},
   "outputs": [
    {
     "name": "stdout",
     "output_type": "stream",
     "text": [
      "You can vote in Peturks\n",
      "You cannot vote in Stanlau because your is less for government data\n",
      "You cannot vote in Mayengua because your is less for government data\n"
     ]
    }
   ],
   "source": [
    "PETURKSBOUIPO_AGE : int = 16\n",
    "STANLAU_AGE : int = 25\n",
    "MAYENGUA_AGE : int = 48\n",
    "\n",
    "user_age = int(input(\"What is your age in numbers: \"))\n",
    "\n",
    "if user_age >= PETURKSBOUIPO_AGE:\n",
    "    print(\"You can vote in Peturks\")\n",
    "else:\n",
    "    print(\"You cannot vote in Peturks because your is less for government data\")\n",
    "    \n",
    "if user_age >= STANLAU_AGE:\n",
    "    print(\"You can vote in Stanlau\")\n",
    "else:\n",
    "    print(\"You cannot vote in Stanlau because your is less for government data\")\n",
    "    \n",
    "if user_age >= MAYENGUA_AGE:\n",
    "    print(\"You can vote in Mayengua\")\n",
    "else:\n",
    "    print(\"You cannot vote in Mayengua because your is less for government data\")\n",
    "    \n"
   ]
  },
  {
   "cell_type": "markdown",
   "metadata": {},
   "source": [
    "# **03_leap_year**"
   ]
  },
  {
   "cell_type": "code",
   "execution_count": 6,
   "metadata": {},
   "outputs": [
    {
     "name": "stdout",
     "output_type": "stream",
     "text": [
      "2025 is not a leap year\n"
     ]
    }
   ],
   "source": [
    "def leap_year(year):\n",
    "    \n",
    "    if year % 4 == 0:\n",
    "        if year % 100 == 0:\n",
    "            if year % 400 == 0:\n",
    "                return True\n",
    "            else:\n",
    "                return False\n",
    "        else:\n",
    "            True\n",
    "    else:\n",
    "        return False\n",
    "    \n",
    "year = int(input(\"Enter a year; e.g (2025): \"))\n",
    "\n",
    "if leap_year(year):\n",
    "    print(f\"{year} is a leap year\")\n",
    "else:\n",
    "    print(f\"{year} is not a leap year\")"
   ]
  },
  {
   "cell_type": "markdown",
   "metadata": {},
   "source": [
    "# **04_tall_enough_to_ride**"
   ]
  },
  {
   "cell_type": "code",
   "execution_count": 18,
   "metadata": {},
   "outputs": [
    {
     "name": "stdout",
     "output_type": "stream",
     "text": [
      "Rafay, you're not eligibel to this ride, but may be next year\n",
      "Ayna, you're eligible to this ride.\n",
      "Arsalan, you're eligible to this ride.\n",
      "Good bye, see you next time\n"
     ]
    }
   ],
   "source": [
    "MAX_HEIGHT = 50\n",
    "\n",
    "while True:\n",
    "    \n",
    "    name = input(\"Enter Your Name Here: \")\n",
    "    height = input(\"Enter your age in numbers\")\n",
    "    \n",
    "    if height == \"\":\n",
    "        print(\"Good bye, see you next time\")\n",
    "        break\n",
    "    \n",
    "    height = float(height)\n",
    "    \n",
    "    if height >= MAX_HEIGHT:\n",
    "        print(f\"{name}, you're eligible to this ride.\")\n",
    "    else:\n",
    "        print(f\"{name}, you're not eligibel to this ride, but may be next year\")"
   ]
  },
  {
   "cell_type": "markdown",
   "metadata": {},
   "source": [
    "# **05_random_numbers**"
   ]
  },
  {
   "cell_type": "code",
   "execution_count": 17,
   "metadata": {},
   "outputs": [
    {
     "name": "stdout",
     "output_type": "stream",
     "text": [
      "45, 3, 12, 99, 38, 27, 96, 78, 61, 21, "
     ]
    }
   ],
   "source": [
    "import random\n",
    "\n",
    "for i in range(10):\n",
    "    print(random.randint(1,100), end=\", \")"
   ]
  }
 ],
 "metadata": {
  "kernelspec": {
   "display_name": "Python 3",
   "language": "python",
   "name": "python3"
  },
  "language_info": {
   "codemirror_mode": {
    "name": "ipython",
    "version": 3
   },
   "file_extension": ".py",
   "mimetype": "text/x-python",
   "name": "python",
   "nbconvert_exporter": "python",
   "pygments_lexer": "ipython3",
   "version": "3.13.2"
  }
 },
 "nbformat": 4,
 "nbformat_minor": 2
}
