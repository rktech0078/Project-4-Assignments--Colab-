{
 "cells": [
  {
   "cell_type": "markdown",
   "metadata": {},
   "source": [
    "# **01_dicesimulator**"
   ]
  },
  {
   "cell_type": "code",
   "execution_count": 9,
   "metadata": {},
   "outputs": [
    {
     "name": "stdout",
     "output_type": "stream",
     "text": [
      "die1 in main() starts as: 10\n",
      "Total of two dice: 7\n",
      "Total of two dice: 7\n",
      "Total of two dice: 8\n",
      "die1 in main() is: 10\n"
     ]
    }
   ],
   "source": [
    "import random\n",
    "\n",
    "MAIN_DICE = 6\n",
    "\n",
    "def roll_dice():\n",
    "    \n",
    "    die1 = random.randint(1, MAIN_DICE)\n",
    "    die2 = random.randint(1, MAIN_DICE)\n",
    "    \n",
    "    total = die1 + die2\n",
    "    \n",
    "    print(\"Total of two dice:\", total)\n",
    "    \n",
    "def main():\n",
    "    \n",
    "    die1: int = 10\n",
    "    print(\"die1 in main() starts as: \" + str(die1))\n",
    "    roll_dice()\n",
    "    roll_dice()\n",
    "    roll_dice()\n",
    "    print(\"die1 in main() is: \" + str(die1))\n",
    "    \n",
    "    \n",
    "if __name__ == '__main__':\n",
    "    main()"
   ]
  },
  {
   "cell_type": "markdown",
   "metadata": {},
   "source": [
    "# **02_e=mc2**"
   ]
  },
  {
   "cell_type": "code",
   "execution_count": null,
   "metadata": {},
   "outputs": [
    {
     "name": "stdout",
     "output_type": "stream",
     "text": [
      "m = 10.0 kg\n",
      "C = 300000 m/s\n",
      "\n",
      "900000000000.0 joules of energy!\n"
     ]
    }
   ],
   "source": [
    "C = 300000\n",
    "\n",
    "m = float(input(\"Enter your mass in KG\"))\n",
    "\n",
    "E = m * C ** 2\n",
    "\n",
    "print(f\"m = {m} kg\")\n",
    "print(f\"C = {C} m/s\")\n",
    "print(f\"\\n{E} joules of energy!\")"
   ]
  },
  {
   "cell_type": "markdown",
   "metadata": {},
   "source": [
    "# **03_feet_to_inches**"
   ]
  },
  {
   "cell_type": "code",
   "execution_count": 12,
   "metadata": {},
   "outputs": [
    {
     "name": "stdout",
     "output_type": "stream",
     "text": [
      "12.0 feet is equal to 144.0 inches\n"
     ]
    }
   ],
   "source": [
    "\n",
    "INCHES_IN_FEET = 12\n",
    "\n",
    "def conversion():\n",
    "    \n",
    "    feet = float(input(\"Enter the number in feets\"))\n",
    "    inches = feet * INCHES_IN_FEET\n",
    "    \n",
    "    print(f\"{feet} feet is equal to {inches} inches\")\n",
    "    \n",
    "if __name__ == \"__main__\":\n",
    "    conversion()"
   ]
  }
 ],
 "metadata": {
  "kernelspec": {
   "display_name": "Python 3",
   "language": "python",
   "name": "python3"
  },
  "language_info": {
   "codemirror_mode": {
    "name": "ipython",
    "version": 3
   },
   "file_extension": ".py",
   "mimetype": "text/x-python",
   "name": "python",
   "nbconvert_exporter": "python",
   "pygments_lexer": "ipython3",
   "version": "3.13.2"
  }
 },
 "nbformat": 4,
 "nbformat_minor": 2
}
