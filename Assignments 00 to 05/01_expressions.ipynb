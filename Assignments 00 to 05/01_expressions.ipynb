{
 "cells": [
  {
   "cell_type": "markdown",
   "metadata": {},
   "source": [
    "# **01_dicesimulator**"
   ]
  },
  {
   "cell_type": "code",
   "execution_count": 9,
   "metadata": {},
   "outputs": [
    {
     "name": "stdout",
     "output_type": "stream",
     "text": [
      "die1 in main() starts as: 10\n",
      "Total of two dice: 7\n",
      "Total of two dice: 7\n",
      "Total of two dice: 8\n",
      "die1 in main() is: 10\n"
     ]
    }
   ],
   "source": [
    "import random\n",
    "\n",
    "MAIN_DICE = 6\n",
    "\n",
    "def roll_dice():\n",
    "    \n",
    "    die1 = random.randint(1, MAIN_DICE)\n",
    "    die2 = random.randint(1, MAIN_DICE)\n",
    "    \n",
    "    total = die1 + die2\n",
    "    \n",
    "    print(\"Total of two dice:\", total)\n",
    "    \n",
    "def main():\n",
    "    \n",
    "    die1: int = 10\n",
    "    print(\"die1 in main() starts as: \" + str(die1))\n",
    "    roll_dice()\n",
    "    roll_dice()\n",
    "    roll_dice()\n",
    "    print(\"die1 in main() is: \" + str(die1))\n",
    "    \n",
    "    \n",
    "if __name__ == '__main__':\n",
    "    main()"
   ]
  },
  {
   "cell_type": "markdown",
   "metadata": {},
   "source": [
    "# **02_e=mc2**"
   ]
  },
  {
   "cell_type": "code",
   "execution_count": null,
   "metadata": {},
   "outputs": [
    {
     "name": "stdout",
     "output_type": "stream",
     "text": [
      "m = 10.0 kg\n",
      "C = 300000 m/s\n",
      "\n",
      "900000000000.0 joules of energy!\n"
     ]
    }
   ],
   "source": [
    "C = 300000\n",
    "\n",
    "m = float(input(\"Enter your mass in KG\"))\n",
    "\n",
    "E = m * C ** 2\n",
    "\n",
    "print(f\"m = {m} kg\")\n",
    "print(f\"C = {C} m/s\")\n",
    "print(f\"\\n{E} joules of energy!\")"
   ]
  },
  {
   "cell_type": "markdown",
   "metadata": {},
   "source": [
    "# **03_feet_to_inches**"
   ]
  },
  {
   "cell_type": "code",
   "execution_count": 12,
   "metadata": {},
   "outputs": [
    {
     "name": "stdout",
     "output_type": "stream",
     "text": [
      "12.0 feet is equal to 144.0 inches\n"
     ]
    }
   ],
   "source": [
    "\n",
    "INCHES_IN_FEET = 12\n",
    "\n",
    "def conversion():\n",
    "    \n",
    "    feet = float(input(\"Enter the number in feets\"))\n",
    "    inches = feet * INCHES_IN_FEET\n",
    "    \n",
    "    print(f\"{feet} feet is equal to {inches} inches\")\n",
    "    \n",
    "if __name__ == \"__main__\":\n",
    "    conversion()"
   ]
  },
  {
   "cell_type": "markdown",
   "metadata": {},
   "source": [
    "# **04_pythagorean_theorem**"
   ]
  },
  {
   "cell_type": "code",
   "execution_count": null,
   "metadata": {},
   "outputs": [
    {
     "name": "stdout",
     "output_type": "stream",
     "text": [
      "The length of BC (the hypotenuse) is: 5.00\n"
     ]
    }
   ],
   "source": [
    "import math\n",
    "\n",
    "def main():\n",
    "    \n",
    "    ab = float(input(\"Enter the length of the first side (AB): \"))\n",
    "    ac = float(input(\"Enter the length of the second side (AC): \"))\n",
    "    \n",
    "    bc = math.sqrt(ab**2 + ac**2)\n",
    "    \n",
    "    print(f\"The length of BC (the hypotenuse) is: {bc:.2f}\")\n",
    "    \n",
    "if __name__ == \"__main__\":\n",
    "    main()"
   ]
  },
  {
   "cell_type": "markdown",
   "metadata": {},
   "source": [
    "# **05_remainder_division**"
   ]
  },
  {
   "cell_type": "code",
   "execution_count": 5,
   "metadata": {},
   "outputs": [
    {
     "name": "stdout",
     "output_type": "stream",
     "text": [
      "The quotient is: 5\n",
      "The remainder is: 0\n"
     ]
    }
   ],
   "source": [
    "def main():\n",
    "    \n",
    "    num1 = int(input(\"Please enter an integer to be divided: \"))\n",
    "    num2 = int(input(\"Please enter another integer to divide by: \"))\n",
    "    \n",
    "    quotient = num1 // num2\n",
    "    remainder = num1 % num2\n",
    "    \n",
    "    print(f\"The quotient is: {quotient}\")\n",
    "    print(f\"The remainder is: {remainder}\")\n",
    "    \n",
    "    \n",
    "if __name__ == \"__main__\":\n",
    "    main()"
   ]
  },
  {
   "cell_type": "markdown",
   "metadata": {},
   "source": [
    "# **06_rolldice**"
   ]
  },
  {
   "cell_type": "code",
   "execution_count": 10,
   "metadata": {},
   "outputs": [
    {
     "name": "stdout",
     "output_type": "stream",
     "text": [
      "Dice 1 = 4\n",
      "Dice 2 = 3\n",
      "Total = 7\n"
     ]
    }
   ],
   "source": [
    "import random\n",
    "\n",
    "DICE_NUM = 6\n",
    "def main():\n",
    "    \n",
    "    die1 = random.randint(1 , DICE_NUM)\n",
    "    die2 = random.randint(1 , DICE_NUM)\n",
    "    \n",
    "    total = die1 + die2\n",
    "    \n",
    "    print(f\"Dice 1 = {die1}\")\n",
    "    print(f\"Dice 2 = {die2}\")\n",
    "    print(f\"Total = {total}\")\n",
    "    \n",
    "if __name__ == \"__main__\":\n",
    "    main()"
   ]
  },
  {
   "cell_type": "markdown",
   "metadata": {},
   "source": [
    "# **06_seconds_in_year**"
   ]
  },
  {
   "cell_type": "code",
   "execution_count": 12,
   "metadata": {},
   "outputs": [
    {
     "name": "stdout",
     "output_type": "stream",
     "text": [
      "There are 31536000 seconds in a year\n"
     ]
    }
   ],
   "source": [
    "days_per_year = 365\n",
    "hours_per_day = 24\n",
    "minutes_per_hour = 60\n",
    "second_per_minute = 60\n",
    "\n",
    "def main():\n",
    "    \n",
    "    seconds_in_year = days_per_year * hours_per_day * minutes_per_hour * second_per_minute\n",
    "    \n",
    "    print(f\"There are {seconds_in_year} seconds in a year\")\n",
    "    \n",
    "\n",
    "if __name__ == \"__main__\":\n",
    "    main()"
   ]
  },
  {
   "cell_type": "markdown",
   "metadata": {},
   "source": [
    "# **07_tiny_mad_lib**"
   ]
  },
  {
   "cell_type": "code",
   "execution_count": 15,
   "metadata": {},
   "outputs": [
    {
     "name": "stdout",
     "output_type": "stream",
     "text": [
      "The big dog  decided to play all day long!\n"
     ]
    }
   ],
   "source": [
    "def main():\n",
    "    adjective = input(\"Enter an adjective: \")\n",
    "    noun = input(\"Enter a noun: \")\n",
    "    verb = input(\"Enter a verb: \")\n",
    "\n",
    "    sentence = f\"The {adjective} {noun} decided to {verb} all day long!\"\n",
    "    print(sentence)\n",
    "\n",
    "if __name__ == \"__main__\":\n",
    "    main()"
   ]
  }
 ],
 "metadata": {
  "kernelspec": {
   "display_name": "Python 3",
   "language": "python",
   "name": "python3"
  },
  "language_info": {
   "codemirror_mode": {
    "name": "ipython",
    "version": 3
   },
   "file_extension": ".py",
   "mimetype": "text/x-python",
   "name": "python",
   "nbconvert_exporter": "python",
   "pygments_lexer": "ipython3",
   "version": "3.13.2"
  }
 },
 "nbformat": 4,
 "nbformat_minor": 2
}
