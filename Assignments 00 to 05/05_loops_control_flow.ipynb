{
 "cells": [
  {
   "cell_type": "markdown",
   "metadata": {},
   "source": [
    "# **00_guess_my_number**"
   ]
  },
  {
   "cell_type": "code",
   "execution_count": 8,
   "metadata": {},
   "outputs": [
    {
     "name": "stdout",
     "output_type": "stream",
     "text": [
      "Your Guess is too high\n",
      "Your Guess is too high\n",
      "Your Guess is too high\n",
      "Your Guess is too high\n",
      "Your Guess is too high\n",
      "Your Guess is too high\n",
      "Your Guess is too high\n",
      "Your Guess is too high\n",
      "Congratulations, Your Guess is Correct Number:  0\n"
     ]
    }
   ],
   "source": [
    "import random\n",
    "\n",
    "secret_number = random.randint(0 , 5)\n",
    "\n",
    "while True:\n",
    "    \n",
    "    user_guess = int(input(\"Guess a number between (0 to 9): \"))\n",
    "    \n",
    "    if user_guess > secret_number:\n",
    "        print(\"Your Guess is too high\")\n",
    "        \n",
    "    elif user_guess < secret_number:\n",
    "        print(\"Your Guess is too low\")\n",
    "        \n",
    "    else:\n",
    "        print(\"Congratulations, Your Guess is Correct Number: \", secret_number )\n",
    "        break\n",
    "        "
   ]
  },
  {
   "cell_type": "markdown",
   "metadata": {},
   "source": [
    "# **01_fibonacci**"
   ]
  },
  {
   "cell_type": "code",
   "execution_count": 27,
   "metadata": {},
   "outputs": [
    {
     "name": "stdout",
     "output_type": "stream",
     "text": [
      "0 1, 1, 2, 3, 5, 8, 13, 21, 34, 55, 89, 144, 233, 377, 610, 987, 1597, 2584, 4181, 6765, "
     ]
    }
   ],
   "source": [
    "MAX_VALUE = 10000\n",
    "\n",
    "a , b = 0 , 1\n",
    "\n",
    "print(a , end=\" \")\n",
    "\n",
    "while b < MAX_VALUE:\n",
    "    \n",
    "    print(b , end=\", \")\n",
    "    \n",
    "    a , b = b , a + b"
   ]
  },
  {
   "cell_type": "markdown",
   "metadata": {},
   "source": [
    "# **02_print_events**"
   ]
  },
  {
   "cell_type": "code",
   "execution_count": 29,
   "metadata": {},
   "outputs": [
    {
     "name": "stdout",
     "output_type": "stream",
     "text": [
      "0, 2, 4, 6, 8, 10, 12, 14, 16, 18, 20, 22, 24, 26, 28, 30, 32, 34, 36, 38, "
     ]
    }
   ],
   "source": [
    "for i in range(20):\n",
    "    print(i * 2 , end=\", \")"
   ]
  },
  {
   "cell_type": "markdown",
   "metadata": {},
   "source": [
    "# ***03_wholesome_machine***"
   ]
  },
  {
   "cell_type": "code",
   "execution_count": 38,
   "metadata": {},
   "outputs": [
    {
     "name": "stdout",
     "output_type": "stream",
     "text": [
      "This not a correct sentence\n",
      "Please Type this Affirmation:  I am capable of doing anything I put my mind to.\n",
      "That's Correct Sentence\n"
     ]
    }
   ],
   "source": [
    "AFFIRMATION = \"I am capable of doing anything I put my mind to.\"\n",
    "\n",
    "user_input = input()\n",
    "\n",
    "while user_input != AFFIRMATION:\n",
    "    \n",
    "    print(\"This not a correct sentence\")\n",
    "    \n",
    "    print(\"Please Type this Affirmation: \", AFFIRMATION)\n",
    "    user_input = input()\n",
    "    \n",
    "print(\"That's Correct Sentence\")"
   ]
  },
  {
   "cell_type": "markdown",
   "metadata": {},
   "source": [
    "# ***04_liftoff***"
   ]
  },
  {
   "cell_type": "code",
   "execution_count": 53,
   "metadata": {},
   "outputs": [
    {
     "name": "stdout",
     "output_type": "stream",
     "text": [
      "10, 9, 8, 7, 6, 5, 4, 3, 2, 1, Rocket Launched\n"
     ]
    }
   ],
   "source": [
    "for i in range(10 , 0 , -1):\n",
    "    \n",
    "    print(i, end=\", \")\n",
    "    \n",
    "print(\"Rocket Launched\")"
   ]
  },
  {
   "cell_type": "markdown",
   "metadata": {},
   "source": [
    "# ***05_double_it***"
   ]
  },
  {
   "cell_type": "code",
   "execution_count": 71,
   "metadata": {},
   "outputs": [
    {
     "name": "stdout",
     "output_type": "stream",
     "text": [
      "4, 8, 16, 32, 64, 128, "
     ]
    }
   ],
   "source": [
    "user_input = int(input(\"Enter a number to be double: \"))\n",
    "\n",
    "\n",
    "while user_input < 100:\n",
    "    \n",
    "    user_input = user_input * 2\n",
    "    print(user_input, end=\", \")"
   ]
  }
 ],
 "metadata": {
  "kernelspec": {
   "display_name": "Python 3",
   "language": "python",
   "name": "python3"
  },
  "language_info": {
   "codemirror_mode": {
    "name": "ipython",
    "version": 3
   },
   "file_extension": ".py",
   "mimetype": "text/x-python",
   "name": "python",
   "nbconvert_exporter": "python",
   "pygments_lexer": "ipython3",
   "version": "3.13.2"
  }
 },
 "nbformat": 4,
 "nbformat_minor": 2
}
