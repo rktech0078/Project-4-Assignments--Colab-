{
 "cells": [
  {
   "cell_type": "markdown",
   "metadata": {},
   "source": [
    "# ***00_choosing_returns***"
   ]
  },
  {
   "cell_type": "code",
   "execution_count": 8,
   "metadata": {},
   "outputs": [
    {
     "name": "stdout",
     "output_type": "stream",
     "text": [
      "True\n",
      "You're Adult and eligibile\n"
     ]
    }
   ],
   "source": [
    "ADULT_AGE = 18\n",
    "\n",
    "def is_adult(age):\n",
    "    if age >= ADULT_AGE:\n",
    "        return True\n",
    "    return False\n",
    "\n",
    "\n",
    "def main():\n",
    "    user_age = int(input(\"Enter your age\"))\n",
    "    print(is_adult(user_age))\n",
    "    \n",
    "    if is_adult(user_age):\n",
    "        print(\"You're Adult and eligibile\")\n",
    "    else:\n",
    "        print(\"You're not adult and not eligible\")\n",
    "    \n",
    "\n",
    "main()"
   ]
  },
  {
   "cell_type": "markdown",
   "metadata": {},
   "source": [
    "# ***01_greetings***"
   ]
  },
  {
   "cell_type": "code",
   "execution_count": 9,
   "metadata": {},
   "outputs": [
    {
     "name": "stdout",
     "output_type": "stream",
     "text": [
      "Greetings! Abdul Rafay Khan\n"
     ]
    }
   ],
   "source": [
    "def greet(name):\n",
    "    print(f\"Greetings! {name}\")\n",
    "    \n",
    "def main():\n",
    "    user_input = str(input(\"Enter your Name here: \"))\n",
    "    greet(user_input)\n",
    "    \n",
    "main()"
   ]
  },
  {
   "cell_type": "markdown",
   "metadata": {},
   "source": [
    "# ***02_in_range***"
   ]
  },
  {
   "cell_type": "code",
   "execution_count": 19,
   "metadata": {},
   "outputs": [
    {
     "name": "stdout",
     "output_type": "stream",
     "text": [
      "True\n",
      "Now 'n' is in middle\n"
     ]
    }
   ],
   "source": [
    "def in_range(n, low, high):\n",
    "    if n >= low and n <= high:\n",
    "        return True\n",
    "    return False\n",
    "\n",
    "def main():\n",
    "    n = int(input(\"Enter the value of 'n' here: \"))\n",
    "    low = int(input(\"Enter the value of 'low' here: \"))\n",
    "    high = int(input(\"Enter the value of 'high' here: \"))\n",
    "    \n",
    "    result = in_range(n, low, high)\n",
    "    print(result)\n",
    "    \n",
    "    if in_range(n, low, high):\n",
    "        print(\"Now 'n' is in middle\")\n",
    "    else:\n",
    "        print(\"No, 'n' is not in middle\")\n",
    "\n",
    "main()"
   ]
  },
  {
   "cell_type": "markdown",
   "metadata": {},
   "source": [
    "# ***03_in_stock***"
   ]
  },
  {
   "cell_type": "code",
   "execution_count": null,
   "metadata": {},
   "outputs": [
    {
     "name": "stdout",
     "output_type": "stream",
     "text": [
      "0\n",
      "The Red is not in stock\n"
     ]
    }
   ],
   "source": [
    "def num_in_stock(fruit):\n",
    "    if fruit == 'apple':\n",
    "        return 100\n",
    "    if fruit == 'mango':\n",
    "        return 400\n",
    "    if fruit == 'watermelon':\n",
    "        return 20\n",
    "    if fruit == 'melon':\n",
    "        return 30\n",
    "    else:\n",
    "        return 0\n",
    "    \n",
    "def main():\n",
    "    user_input = str(input(\"Enter a fruit name: \"))\n",
    "    stock = num_in_stock(user_input)\n",
    "    if stock == 0:\n",
    "        print(f\"The {user_input} is not in stock\")\n",
    "    else:\n",
    "        print(f\"The {user_input} is in stock\")\n",
    "        print(f\"'{stock}' items remaining\")\n",
    " \n",
    "main()   "
   ]
  },
  {
   "cell_type": "markdown",
   "metadata": {},
   "source": [
    "# ***04_multiple_returns***"
   ]
  },
  {
   "cell_type": "code",
   "execution_count": 13,
   "metadata": {},
   "outputs": [
    {
     "name": "stdout",
     "output_type": "stream",
     "text": [
      "Recieved the following data: ('Rafay', 'Khan', '123@gmail.com')\n"
     ]
    }
   ],
   "source": [
    "def get_user_data():\n",
    "    \n",
    "    first_name = input(\"Enter your first name here: \")\n",
    "    last_name = input(\"Enter your last name here: \")\n",
    "    email = input(\"Enter your email here: \")\n",
    "    \n",
    "    return first_name, last_name, email\n",
    "\n",
    "def main():\n",
    "    user_data = get_user_data()\n",
    "    print(f\"Recieved the following data: {user_data}\")\n",
    "\n",
    "main()"
   ]
  },
  {
   "cell_type": "markdown",
   "metadata": {},
   "source": [
    "# ***05_subtract_7***"
   ]
  },
  {
   "cell_type": "code",
   "execution_count": 22,
   "metadata": {},
   "outputs": [
    {
     "name": "stdout",
     "output_type": "stream",
     "text": [
      "This should be zero:  0\n"
     ]
    }
   ],
   "source": [
    "def subtract_seven(num):\n",
    "    num = num - 7 \n",
    "    return num\n",
    "\n",
    "def main():\n",
    "    num = 7\n",
    "    number = subtract_seven(num)\n",
    "    print(\"This should be zero: \", number)\n",
    "    \n",
    "main()"
   ]
  }
 ],
 "metadata": {
  "kernelspec": {
   "display_name": "Python 3",
   "language": "python",
   "name": "python3"
  },
  "language_info": {
   "codemirror_mode": {
    "name": "ipython",
    "version": 3
   },
   "file_extension": ".py",
   "mimetype": "text/x-python",
   "name": "python",
   "nbconvert_exporter": "python",
   "pygments_lexer": "ipython3",
   "version": "3.13.2"
  }
 },
 "nbformat": 4,
 "nbformat_minor": 2
}
