{
 "cells": [
  {
   "cell_type": "markdown",
   "metadata": {},
   "source": [
    "# **00_count_nums**"
   ]
  },
  {
   "cell_type": "code",
   "execution_count": 19,
   "metadata": {},
   "outputs": [
    {
     "name": "stdout",
     "output_type": "stream",
     "text": [
      "1 appears in 4 time.\n",
      "2 appears in 4 time.\n",
      "3 appears in 4 time.\n",
      "4 appears in 4 time.\n",
      "5 appears in 4 time.\n"
     ]
    }
   ],
   "source": [
    "def count_num():\n",
    "    \n",
    "    counting = {}\n",
    "    \n",
    "    while True:\n",
    "        \n",
    "        user_input = input(\"Enter a number (or 'q' to quit): \")\n",
    "        \n",
    "        if user_input.lower() == 'q':\n",
    "            break\n",
    "        \n",
    "        user = int(user_input)\n",
    "        \n",
    "        if user in counting:\n",
    "            counting[user] += 1\n",
    "        else:\n",
    "            counting[user] = 1\n",
    "            \n",
    "    for key, value in counting.items():\n",
    "        print(f\"{key} appears in {value} time.\")\n",
    "            \n",
    "            \n",
    "count_num()\n",
    "\n"
   ]
  },
  {
   "cell_type": "markdown",
   "metadata": {},
   "source": [
    "# **01_phonebook**"
   ]
  },
  {
   "cell_type": "code",
   "execution_count": 22,
   "metadata": {},
   "outputs": [
    {
     "name": "stdout",
     "output_type": "stream",
     "text": [
      "\n",
      "Simple Phone-book Programme\n",
      "1. Add New Number\n",
      "2. Search Number\n",
      "3. Phonebook List\n",
      "4. Exit\n",
      "Rafay: 03122344566 is saved in your phonebook\n",
      "\n",
      "Simple Phone-book Programme\n",
      "1. Add New Number\n",
      "2. Search Number\n",
      "3. Phonebook List\n",
      "4. Exit\n",
      "\n",
      "Phone Book List\n",
      "\n",
      "Rafay: 03122344566\n",
      "\n",
      "Simple Phone-book Programme\n",
      "1. Add New Number\n",
      "2. Search Number\n",
      "3. Phonebook List\n",
      "4. Exit\n",
      "Programme successfully closed....\n"
     ]
    }
   ],
   "source": [
    "phonebook = {}\n",
    "\n",
    "while True:\n",
    "    \n",
    "    print(\"\\nSimple Phone-book Programme\")\n",
    "    print(\"1. Add New Number\")\n",
    "    print(\"2. Search Number\")\n",
    "    print(\"3. Phonebook List\")\n",
    "    print(\"4. Exit\")\n",
    "    \n",
    "    user_input = int(input(\"Select your options (1-4): \"))\n",
    "    \n",
    "    if user_input == 1:\n",
    "        \n",
    "        name = input(\"Enter your Name: \")\n",
    "        number = input(\"Enter your phone number: \")\n",
    "        phonebook[name] = number\n",
    "        print(f\"{name}: {number} is saved in your phonebook\")\n",
    "        \n",
    "    elif user_input == 2:\n",
    "        \n",
    "        search = input(\"Enter Name for searching...\")\n",
    "        \n",
    "        if search in phonebook:\n",
    "            print(f\"📞 {name} number: {phonebook[name]}\")\n",
    "        else:\n",
    "            print(\"This number dosen't exist in your phonebook\")\n",
    "            \n",
    "    elif user_input == 3:\n",
    "        \n",
    "        print(\"\\nPhone Book List\\n\")\n",
    "        for name, number in phonebook.items():\n",
    "            print(f\"{name}: {number}\")\n",
    "            \n",
    "    elif user_input == 4:\n",
    "        print(\"Programme successfully closed....\")\n",
    "        break\n",
    "    \n",
    "    else:\n",
    "        print(\"Wrong Command!\")\n",
    "    "
   ]
  },
  {
   "cell_type": "markdown",
   "metadata": {},
   "source": [
    "# **02_pop_up_shop**"
   ]
  },
  {
   "cell_type": "code",
   "execution_count": 7,
   "metadata": {},
   "outputs": [
    {
     "name": "stdout",
     "output_type": "stream",
     "text": [
      "Your Total is 203.00 $\n"
     ]
    }
   ],
   "source": [
    "fruits = {\n",
    "    \"apple\": 5.0,\n",
    "    \"durian\": 15.0,\n",
    "    \"jackfruit\": 12.5,\n",
    "    \"kiwi\": 8.0,\n",
    "    \"rambutan\": 7.0,\n",
    "    \"mango\": 10.0\n",
    "}\n",
    "\n",
    "total_cost = 0\n",
    "\n",
    "for fruit, price in fruits.items():\n",
    "    \n",
    "    user_input = int(input(f\"How many {fruit} do you want? \"))\n",
    "    total_cost += user_input * price\n",
    "    \n",
    "print(f\"Your Total is {total_cost:.2f} $\")\n"
   ]
  },
  {
   "cell_type": "markdown",
   "metadata": {},
   "source": [
    "# **03_powerful_passwords**"
   ]
  },
  {
   "cell_type": "code",
   "execution_count": null,
   "metadata": {},
   "outputs": [],
   "source": []
  },
  {
   "cell_type": "code",
   "execution_count": 8,
   "metadata": {},
   "outputs": [
    {
     "name": "stdout",
     "output_type": "stream",
     "text": [
      "Login Successful\n"
     ]
    }
   ],
   "source": [
    "import hashlib\n",
    "\n",
    "stored_password = {\n",
    "    \"user1@gmail.com\": hashlib.sha256(\"pass1\".encode()).hexdigest(),\n",
    "    \"user2@gmail.com\": hashlib.sha256(\"pass2\".encode()).hexdigest()\n",
    "}\n",
    "\n",
    "def login(email, password_to_check):\n",
    "    \n",
    "    hashed_password = hashlib.sha256(password_to_check.encode()).hexdigest()\n",
    "    \n",
    "    if email in stored_password and stored_password[email] == hashed_password:\n",
    "        return True\n",
    "    else:\n",
    "        return False\n",
    "    \n",
    "\n",
    "email_input = input(\"Enter Email\")\n",
    "password_input = input(\"Enter Password\")\n",
    "\n",
    "if login(email_input, password_input):\n",
    "    print(\"Login Successful\")\n",
    "else:\n",
    "    print(\"Invalid Email and Password\")"
   ]
  }
 ],
 "metadata": {
  "kernelspec": {
   "display_name": "Python 3",
   "language": "python",
   "name": "python3"
  },
  "language_info": {
   "codemirror_mode": {
    "name": "ipython",
    "version": 3
   },
   "file_extension": ".py",
   "mimetype": "text/x-python",
   "name": "python",
   "nbconvert_exporter": "python",
   "pygments_lexer": "ipython3",
   "version": "3.13.2"
  }
 },
 "nbformat": 4,
 "nbformat_minor": 2
}
