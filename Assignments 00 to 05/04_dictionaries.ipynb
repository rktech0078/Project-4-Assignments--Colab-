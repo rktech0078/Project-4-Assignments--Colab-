{
 "cells": [
  {
   "cell_type": "markdown",
   "metadata": {},
   "source": [
    "# **00_count_nums**"
   ]
  },
  {
   "cell_type": "code",
   "execution_count": 19,
   "metadata": {},
   "outputs": [
    {
     "name": "stdout",
     "output_type": "stream",
     "text": [
      "1 appears in 4 time.\n",
      "2 appears in 4 time.\n",
      "3 appears in 4 time.\n",
      "4 appears in 4 time.\n",
      "5 appears in 4 time.\n"
     ]
    }
   ],
   "source": [
    "def count_num():\n",
    "    \n",
    "    counting = {}\n",
    "    \n",
    "    while True:\n",
    "        \n",
    "        user_input = input(\"Enter a number (or 'q' to quit): \")\n",
    "        \n",
    "        if user_input.lower() == 'q':\n",
    "            break\n",
    "        \n",
    "        user = int(user_input)\n",
    "        \n",
    "        if user in counting:\n",
    "            counting[user] += 1\n",
    "        else:\n",
    "            counting[user] = 1\n",
    "            \n",
    "    for key, value in counting.items():\n",
    "        print(f\"{key} appears in {value} time.\")\n",
    "            \n",
    "            \n",
    "count_num()\n",
    "\n"
   ]
  },
  {
   "cell_type": "markdown",
   "metadata": {},
   "source": [
    "# **01_phonebook**"
   ]
  },
  {
   "cell_type": "code",
   "execution_count": 22,
   "metadata": {},
   "outputs": [
    {
     "name": "stdout",
     "output_type": "stream",
     "text": [
      "\n",
      "Simple Phone-book Programme\n",
      "1. Add New Number\n",
      "2. Search Number\n",
      "3. Phonebook List\n",
      "4. Exit\n",
      "Rafay: 03122344566 is saved in your phonebook\n",
      "\n",
      "Simple Phone-book Programme\n",
      "1. Add New Number\n",
      "2. Search Number\n",
      "3. Phonebook List\n",
      "4. Exit\n",
      "\n",
      "Phone Book List\n",
      "\n",
      "Rafay: 03122344566\n",
      "\n",
      "Simple Phone-book Programme\n",
      "1. Add New Number\n",
      "2. Search Number\n",
      "3. Phonebook List\n",
      "4. Exit\n",
      "Programme successfully closed....\n"
     ]
    }
   ],
   "source": [
    "phonebook = {}\n",
    "\n",
    "while True:\n",
    "    \n",
    "    print(\"\\nSimple Phone-book Programme\")\n",
    "    print(\"1. Add New Number\")\n",
    "    print(\"2. Search Number\")\n",
    "    print(\"3. Phonebook List\")\n",
    "    print(\"4. Exit\")\n",
    "    \n",
    "    user_input = int(input(\"Select your options (1-4): \"))\n",
    "    \n",
    "    if user_input == 1:\n",
    "        \n",
    "        name = input(\"Enter your Name: \")\n",
    "        number = input(\"Enter your phone number: \")\n",
    "        phonebook[name] = number\n",
    "        print(f\"{name}: {number} is saved in your phonebook\")\n",
    "        \n",
    "    elif user_input == 2:\n",
    "        \n",
    "        search = input(\"Enter Name for searching...\")\n",
    "        \n",
    "        if search in phonebook:\n",
    "            print(f\"📞 {name} number: {phonebook[name]}\")\n",
    "        else:\n",
    "            print(\"This number dosen't exist in your phonebook\")\n",
    "            \n",
    "    elif user_input == 3:\n",
    "        \n",
    "        print(\"\\nPhone Book List\\n\")\n",
    "        for name, number in phonebook.items():\n",
    "            print(f\"{name}: {number}\")\n",
    "            \n",
    "    elif user_input == 4:\n",
    "        print(\"Programme successfully closed....\")\n",
    "        break\n",
    "    \n",
    "    else:\n",
    "        print(\"Wrong Command!\")\n",
    "    "
   ]
  },
  {
   "cell_type": "markdown",
   "metadata": {},
   "source": [
    "# **02_pop_up_shop**"
   ]
  },
  {
   "cell_type": "code",
   "execution_count": null,
   "metadata": {},
   "outputs": [],
   "source": []
  }
 ],
 "metadata": {
  "kernelspec": {
   "display_name": "Python 3",
   "language": "python",
   "name": "python3"
  },
  "language_info": {
   "codemirror_mode": {
    "name": "ipython",
    "version": 3
   },
   "file_extension": ".py",
   "mimetype": "text/x-python",
   "name": "python",
   "nbconvert_exporter": "python",
   "pygments_lexer": "ipython3",
   "version": "3.13.2"
  }
 },
 "nbformat": 4,
 "nbformat_minor": 2
}
