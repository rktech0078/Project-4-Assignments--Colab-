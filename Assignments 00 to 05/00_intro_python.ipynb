{
 "cells": [
  {
   "cell_type": "markdown",
   "metadata": {},
   "source": [
    "# **01_add_two_numbers**"
   ]
  },
  {
   "cell_type": "code",
   "execution_count": 3,
   "metadata": {},
   "outputs": [
    {
     "name": "stdout",
     "output_type": "stream",
     "text": [
      "Here is a simple project of python that simply add two numbers\n",
      "The total is 2\n"
     ]
    }
   ],
   "source": [
    "print (\"Here is a simple project of python that simply add two numbers\")\n",
    "\n",
    "def sum():\n",
    "\n",
    "  num1 = input('Enter your first number: ')\n",
    "  num2 = input('Enter your second number: ')\n",
    "\n",
    "  num_1 = int(num1)\n",
    "  num_2 = int(num2)\n",
    "\n",
    "  sum = num_1 + num_2\n",
    "\n",
    "  print(f\"The total is {sum}\")\n",
    "\n",
    "if __name__ == '__main__':\n",
    "  sum()"
   ]
  },
  {
   "cell_type": "markdown",
   "metadata": {},
   "source": [
    "# **02_agreement_bot**"
   ]
  },
  {
   "cell_type": "code",
   "execution_count": 4,
   "metadata": {},
   "outputs": [
    {
     "name": "stdout",
     "output_type": "stream",
     "text": [
      "My favorite animal is also cow\n"
     ]
    }
   ],
   "source": [
    "def main():\n",
    "\n",
    "  prompt = str(input(\"Enter your favourite animal name?\"))\n",
    "\n",
    "  print(f\"My favorite animal is also {prompt}\")\n",
    "\n",
    "\n",
    "if __name__ == '__main__':\n",
    "  main()"
   ]
  },
  {
   "cell_type": "markdown",
   "metadata": {},
   "source": [
    "# **03_fahrenheit_to_celsius**"
   ]
  },
  {
   "cell_type": "code",
   "execution_count": 5,
   "metadata": {},
   "outputs": [
    {
     "name": "stdout",
     "output_type": "stream",
     "text": [
      "In this programme, you can change farenheit to celsius\n",
      "Temperature 45.66F = 27.88C\n"
     ]
    }
   ],
   "source": [
    "print('In this programme, you can change farenheit to celsius')\n",
    "\n",
    "def uint_convertion():\n",
    "\n",
    "  farenheit = float(input(\"Enter your temperature in farenheit: \"))\n",
    "\n",
    "  celcius = farenheit - 32 * 5.0/9.0\n",
    "\n",
    "  print(f\"Temperature {farenheit}F = {celcius:.2f}C\")\n",
    "\n",
    "\n",
    "if __name__ == '__main__':\n",
    "  uint_convertion()"
   ]
  },
  {
   "cell_type": "markdown",
   "metadata": {},
   "source": [
    "# **04_how_old_are_they**"
   ]
  },
  {
   "cell_type": "code",
   "execution_count": 6,
   "metadata": {},
   "outputs": [
    {
     "name": "stdout",
     "output_type": "stream",
     "text": [
      "Anton is 21 years old.\n",
      "Beth is 27 years old.\n",
      "Chen is 47 years old.\n",
      "Drew is 68 years old.\n",
      "Ethan is 47 years old.\n"
     ]
    }
   ],
   "source": [
    "def main():\n",
    "\n",
    "  anton = 21\n",
    "  beth = 6 + anton\n",
    "  chen = 20 + beth\n",
    "  drew = chen + anton\n",
    "  ethan = chen\n",
    "\n",
    "\n",
    "  print(f\"Anton is {anton} years old.\")\n",
    "  print(f\"Beth is {beth} years old.\")\n",
    "  print(f\"Chen is {chen} years old.\")\n",
    "  print(f\"Drew is {drew} years old.\")\n",
    "  print(f\"Ethan is {ethan} years old.\")\n",
    "\n",
    "\n",
    "if __name__ == '__main__':\n",
    "  main()"
   ]
  },
  {
   "cell_type": "markdown",
   "metadata": {},
   "source": [
    "# **05_triangle_perimeter**"
   ]
  },
  {
   "cell_type": "code",
   "execution_count": 7,
   "metadata": {},
   "outputs": [
    {
     "name": "stdout",
     "output_type": "stream",
     "text": [
      "This programme calculates the perimeter of a triangle\n",
      "The perimeter of this triangle is: 9.00 meters\n"
     ]
    }
   ],
   "source": [
    "print(\"This programme calculates the perimeter of a triangle\")\n",
    "\n",
    "def main():\n",
    "\n",
    "  side_a = float(input(\"Enter the length of side A in meters: \"))\n",
    "  side_b = float(input(\"Enter the length of side B in meters: \"))\n",
    "  side_c = float(input(\"Enter the length of side C in meters: \"))\n",
    "\n",
    "  print(f\"The perimeter of this triangle is: {side_a + side_b + side_c:.2f} meters\")\n",
    "\n",
    "\n",
    "if __name__ == \"__main__\":\n",
    "  main()"
   ]
  },
  {
   "cell_type": "markdown",
   "metadata": {},
   "source": [
    "# **06_square_number**"
   ]
  },
  {
   "cell_type": "code",
   "execution_count": 9,
   "metadata": {},
   "outputs": [
    {
     "name": "stdout",
     "output_type": "stream",
     "text": [
      "This programme calculates the square of a number\n",
      "The square of 4 is 16\n"
     ]
    }
   ],
   "source": [
    "print(\"This programme calculates the square of a number\")\n",
    "\n",
    "def main():\n",
    "\n",
    "  num = int(input(\"Enter a number: \"))\n",
    "\n",
    "  print(f\"The square of {num} is {num**2}\")\n",
    "\n",
    "if __name__ == \"__main__\":\n",
    "  main()"
   ]
  }
 ],
 "metadata": {
  "kernelspec": {
   "display_name": "Python 3",
   "language": "python",
   "name": "python3"
  },
  "language_info": {
   "codemirror_mode": {
    "name": "ipython",
    "version": 3
   },
   "file_extension": ".py",
   "mimetype": "text/x-python",
   "name": "python",
   "nbconvert_exporter": "python",
   "pygments_lexer": "ipython3",
   "version": "3.13.2"
  }
 },
 "nbformat": 4,
 "nbformat_minor": 2
}
