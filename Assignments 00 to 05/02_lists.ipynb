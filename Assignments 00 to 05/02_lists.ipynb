{
 "cells": [
  {
   "cell_type": "markdown",
   "metadata": {},
   "source": [
    "# **01_add_many_number**"
   ]
  },
  {
   "cell_type": "code",
   "execution_count": 7,
   "metadata": {},
   "outputs": [
    {
     "name": "stdout",
     "output_type": "stream",
     "text": [
      "The sum of [1, 2, 3, 4, 5] is: 15\n"
     ]
    }
   ],
   "source": [
    "def sum_of_numbers(numbers):\n",
    "    return sum(numbers)\n",
    "\n",
    "nums = [1,2,3,4,5]\n",
    "result = sum_of_numbers(nums)\n",
    "\n",
    "print(f'The sum of {nums} is: {result}')"
   ]
  },
  {
   "cell_type": "markdown",
   "metadata": {},
   "source": [
    "# **02_double_list**"
   ]
  },
  {
   "cell_type": "code",
   "execution_count": 10,
   "metadata": {},
   "outputs": [
    {
     "name": "stdout",
     "output_type": "stream",
     "text": [
      "Double list numbers: [4, 8, 12, 16]\n"
     ]
    }
   ],
   "source": [
    "def main():\n",
    "    numbers: list[int] = [2,4,6,8]\n",
    "    \n",
    "    for i in range(len(numbers)):\n",
    "        indexing = numbers[i]\n",
    "        numbers[i] = indexing * 2\n",
    "        \n",
    "    print(f\"Double list numbers: {numbers}\")\n",
    "\n",
    "if __name__ == '__main__':\n",
    "    main()"
   ]
  },
  {
   "cell_type": "markdown",
   "metadata": {},
   "source": [
    "# **03_erase_canvas**"
   ]
  },
  {
   "cell_type": "code",
   "execution_count": null,
   "metadata": {},
   "outputs": [],
   "source": []
  }
 ],
 "metadata": {
  "kernelspec": {
   "display_name": "Python 3",
   "language": "python",
   "name": "python3"
  },
  "language_info": {
   "codemirror_mode": {
    "name": "ipython",
    "version": 3
   },
   "file_extension": ".py",
   "mimetype": "text/x-python",
   "name": "python",
   "nbconvert_exporter": "python",
   "pygments_lexer": "ipython3",
   "version": "3.13.2"
  }
 },
 "nbformat": 4,
 "nbformat_minor": 2
}
