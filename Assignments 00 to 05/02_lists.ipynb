{
 "cells": [
  {
   "cell_type": "markdown",
   "metadata": {},
   "source": [
    "# **01_add_many_number**"
   ]
  },
  {
   "cell_type": "code",
   "execution_count": 7,
   "metadata": {},
   "outputs": [
    {
     "name": "stdout",
     "output_type": "stream",
     "text": [
      "The sum of [1, 2, 3, 4, 5] is: 15\n"
     ]
    }
   ],
   "source": [
    "def sum_of_numbers(numbers):\n",
    "    return sum(numbers)\n",
    "\n",
    "nums = [1,2,3,4,5]\n",
    "result = sum_of_numbers(nums)\n",
    "\n",
    "print(f'The sum of {nums} is: {result}')"
   ]
  },
  {
   "cell_type": "markdown",
   "metadata": {},
   "source": [
    "# **02_double_list**"
   ]
  },
  {
   "cell_type": "code",
   "execution_count": 10,
   "metadata": {},
   "outputs": [
    {
     "name": "stdout",
     "output_type": "stream",
     "text": [
      "Double list numbers: [4, 8, 12, 16]\n"
     ]
    }
   ],
   "source": [
    "def main():\n",
    "    numbers: list[int] = [2,4,6,8]\n",
    "    \n",
    "    for i in range(len(numbers)):\n",
    "        indexing = numbers[i]\n",
    "        numbers[i] = indexing * 2\n",
    "        \n",
    "    print(f\"Double list numbers: {numbers}\")\n",
    "\n",
    "if __name__ == '__main__':\n",
    "    main()"
   ]
  },
  {
   "cell_type": "markdown",
   "metadata": {},
   "source": [
    "# **03_erase_canvas**"
   ]
  },
  {
   "cell_type": "code",
   "execution_count": null,
   "metadata": {},
   "outputs": [],
   "source": [
    "# With a lot of struggle, However I don't understand this topic so the struggle is continued..."
   ]
  },
  {
   "cell_type": "markdown",
   "metadata": {},
   "source": [
    "# **04_flowing_with_data_structures**"
   ]
  },
  {
   "cell_type": "code",
   "execution_count": 2,
   "metadata": {},
   "outputs": [
    {
     "name": "stdout",
     "output_type": "stream",
     "text": [
      "List before: []\n",
      "List after: ['Hi', 'Hi', 'Hi']\n"
     ]
    }
   ],
   "source": [
    "def add_three_copies(lst, data):\n",
    "    lst.append(data)\n",
    "    lst.append(data)\n",
    "    lst.append(data)\n",
    "\n",
    "# Empty list\n",
    "my_list = []\n",
    "\n",
    "# User input\n",
    "message = input(\"Enter a message to copy: \")\n",
    "\n",
    "print(\"List before:\", my_list)\n",
    "\n",
    "# Function call\n",
    "add_three_copies(my_list, message)\n",
    "\n",
    "print(\"List after:\", my_list)\n"
   ]
  },
  {
   "cell_type": "markdown",
   "metadata": {},
   "source": [
    "# **05_get_first_element**"
   ]
  },
  {
   "cell_type": "code",
   "execution_count": 9,
   "metadata": {},
   "outputs": [
    {
     "name": "stdout",
     "output_type": "stream",
     "text": [
      "Main List: ['A', 'B', 'C', 'D', 'E']\n",
      "A\n"
     ]
    }
   ],
   "source": [
    "def get_first_element(list):\n",
    "    print(list[0])\n",
    "    \n",
    "    \n",
    "user_list = []\n",
    "\n",
    "user_input = int(input(\"Kitne Elements Add karne hai list may: \"))\n",
    "\n",
    "for i in range(user_input):\n",
    "    \n",
    "    element = input(f\"Element {i + 1} Likho\")\n",
    "    user_list.append(element)\n",
    "\n",
    "print(\"Main List:\", user_list)\n",
    "\n",
    "get_first_element(user_list)"
   ]
  },
  {
   "cell_type": "markdown",
   "metadata": {},
   "source": [
    "# **06_get_last_element**"
   ]
  },
  {
   "cell_type": "code",
   "execution_count": 10,
   "metadata": {},
   "outputs": [
    {
     "name": "stdout",
     "output_type": "stream",
     "text": [
      "Main List: ['A', 'B', 'C', 'D', 'E']\n",
      "E\n"
     ]
    }
   ],
   "source": [
    "def get_last_element(list):\n",
    "    print(list[-1])\n",
    "    \n",
    "user_list = []\n",
    "\n",
    "user_input = int(input(\"Kitne Elements Add karne hai list may: \"))\n",
    "\n",
    "for i in range(user_input):\n",
    "    \n",
    "    element = input(f\"Element {i + 1} Likho\")\n",
    "    user_list.append(element)\n",
    "    \n",
    "print(\"Main List:\", user_list)\n",
    "\n",
    "get_last_element(user_list)"
   ]
  },
  {
   "cell_type": "markdown",
   "metadata": {},
   "source": [
    "# **07_get_list**"
   ]
  },
  {
   "cell_type": "code",
   "execution_count": null,
   "metadata": {},
   "outputs": [
    {
     "name": "stdout",
     "output_type": "stream",
     "text": [
      "List:  ['1', '2', '3', '4', '5', '6', 'a', 's', 'b', 'c', 'd', 'e']\n"
     ]
    }
   ],
   "source": [
    "def main():\n",
    "    list = []\n",
    "    \n",
    "    value = input(\"Enter the value to add in the list\")\n",
    "    \n",
    "    while value:\n",
    "        list.append(value)\n",
    "        value = input(\"Enter the value to add in the list\")\n",
    "        \n",
    "    print(\"List: \", list)\n",
    "    \n",
    "if __name__ == \"__main__\":\n",
    "    main()"
   ]
  },
  {
   "cell_type": "markdown",
   "metadata": {},
   "source": [
    "# **08_shorten**"
   ]
  },
  {
   "cell_type": "code",
   "execution_count": 20,
   "metadata": {},
   "outputs": [
    {
     "name": "stdout",
     "output_type": "stream",
     "text": [
      "List before shortening: ['A', 'B', 'C', 'D', 'E']\n",
      "Removed Element: E\n",
      "Removed Element: D\n",
      "List after shortening: ['A', 'B', 'C']\n"
     ]
    }
   ],
   "source": [
    "MAX_LENGTH = 3\n",
    "\n",
    "def shorten(list):\n",
    "    \n",
    "    while len(list) > MAX_LENGTH:\n",
    "        remove_element = list.pop()\n",
    "        print(f\"Removed Element: {remove_element}\")\n",
    "        \n",
    "        \n",
    "def user_input():\n",
    "    \n",
    "    user_list = []\n",
    "    \n",
    "    user_input = int(input(\"Kitne Elements Add karne hai list may: \"))\n",
    "    \n",
    "    for i in range(user_input):\n",
    "        \n",
    "        element = input(f\"Element {i + 1} Likho\")\n",
    "        user_list.append(element)\n",
    "        \n",
    "\n",
    "        print(f\"List before shortening: {user_list}\")\n",
    "\n",
    "        shorten(user_list)\n",
    "\n",
    "        print(f\"List after shortening: {user_list}\")\n",
    "        \n",
    "main()"
   ]
  }
 ],
 "metadata": {
  "kernelspec": {
   "display_name": "Python 3",
   "language": "python",
   "name": "python3"
  },
  "language_info": {
   "codemirror_mode": {
    "name": "ipython",
    "version": 3
   },
   "file_extension": ".py",
   "mimetype": "text/x-python",
   "name": "python",
   "nbconvert_exporter": "python",
   "pygments_lexer": "ipython3",
   "version": "3.13.2"
  }
 },
 "nbformat": 4,
 "nbformat_minor": 2
}
