{
 "cells": [
  {
   "cell_type": "markdown",
   "metadata": {},
   "source": [
    "# ***00_averages***"
   ]
  },
  {
   "cell_type": "code",
   "execution_count": 5,
   "metadata": {},
   "outputs": [
    {
     "name": "stdout",
     "output_type": "stream",
     "text": [
      "Your Average is: 7.0\n"
     ]
    }
   ],
   "source": [
    "def average(usr_input_1 , usr_input_2):\n",
    "    \n",
    "    cal_average = (usr_input_1 + usr_input_2) / 2\n",
    "    return cal_average\n",
    "\n",
    "usr_input_1 = float(input(\"Enter your first number\"))\n",
    "usr_input_2 = float(input(\"Enter your second number\"))\n",
    "\n",
    "result = average(usr_input_1 , usr_input_2)\n",
    "\n",
    "print(f\"Your Average is: {result}\")"
   ]
  },
  {
   "cell_type": "markdown",
   "metadata": {},
   "source": [
    "# ***01_chaotic_counting***"
   ]
  },
  {
   "cell_type": "code",
   "execution_count": 87,
   "metadata": {},
   "outputs": [
    {
     "name": "stdout",
     "output_type": "stream",
     "text": [
      "I'm going to count until 10 or until I feel like stopping, whichever comes first.\n",
      "1, 2, 3, 4, 5, 6, 7, 8, 9, 10, \n",
      "I'm done\n"
     ]
    }
   ],
   "source": [
    "import random \n",
    "\n",
    "def done():\n",
    "    DONE_LIKELIHOOD = 0.3\n",
    "    return random.random() < DONE_LIKELIHOOD\n",
    "\n",
    "def chaotic_counting():\n",
    "    for i in range(1 , 11):\n",
    "        if done():\n",
    "            return\n",
    "        print(i , end=\", \")\n",
    "        \n",
    "def main():\n",
    "    print(\"I'm going to count until 10 or until I feel like stopping, whichever comes first.\")\n",
    "    chaotic_counting()\n",
    "    print(\"\\nI'm done\")\n",
    "    \n",
    "main()"
   ]
  },
  {
   "cell_type": "markdown",
   "metadata": {},
   "source": [
    "# ***02_count_even***"
   ]
  },
  {
   "cell_type": "code",
   "execution_count": 93,
   "metadata": {},
   "outputs": [
    {
     "name": "stdout",
     "output_type": "stream",
     "text": [
      "List Before: [1, 2, 3, 4, 5, 6, 7, 8, 9, 0]\n",
      "Total Even Counts: 5\n"
     ]
    }
   ],
   "source": [
    "def count_even(list):\n",
    "    even_num = 0\n",
    "    for i in list:\n",
    "        if i % 2 == 0:\n",
    "            even_num += 1\n",
    "    print(f\"Total Even Counts: {even_num}\")\n",
    "    \n",
    "list = []\n",
    "\n",
    "while True:\n",
    "    user_input = input(\"Enter a Number: \")\n",
    "    if user_input == \"\":\n",
    "        break\n",
    "    list.append(int(user_input))\n",
    "    \n",
    "print(f\"List Before: {list}\")\n",
    "count_even(list)"
   ]
  },
  {
   "cell_type": "markdown",
   "metadata": {},
   "source": [
    "# ***03_double***"
   ]
  },
  {
   "cell_type": "code",
   "execution_count": 94,
   "metadata": {},
   "outputs": [
    {
     "name": "stdout",
     "output_type": "stream",
     "text": [
      "Your Number is: 6 and it's doubled is 12\n"
     ]
    }
   ],
   "source": [
    "def double_num(num):\n",
    "    return num * 2\n",
    "\n",
    "def main():\n",
    "    user_input = int(input(\"Enter a number to be doubled: \"))\n",
    "    result = double_num(user_input)\n",
    "    print(f\"Your Number is: {user_input} and it's doubled is {result}\")\n",
    "    \n",
    "main()"
   ]
  },
  {
   "cell_type": "markdown",
   "metadata": {},
   "source": [
    "# ***04_get_name***"
   ]
  },
  {
   "cell_type": "code",
   "execution_count": null,
   "metadata": {},
   "outputs": [
    {
     "name": "stdout",
     "output_type": "stream",
     "text": [
      "Hello Dear, Rafay 🤠\n"
     ]
    }
   ],
   "source": [
    "def get_name(name):\n",
    "    return name\n",
    "\n",
    "def main():\n",
    "    user_input = input(\"Enter your for greetings\")\n",
    "    result = get_name(user_input)\n",
    "    print(f\"Hello Dear, {result} 🤠\")\n",
    "    \n",
    "main()"
   ]
  },
  {
   "cell_type": "markdown",
   "metadata": {},
   "source": [
    "# ***05_is_odd***"
   ]
  },
  {
   "cell_type": "code",
   "execution_count": 107,
   "metadata": {},
   "outputs": [
    {
     "name": "stdout",
     "output_type": "stream",
     "text": [
      "0 is Even, 1 is Odd, 2 is Even, 3 is Odd, 4 is Even, 5 is Odd, 6 is Even, 7 is Odd, 8 is Even, 9 is Odd, 10 is Even, "
     ]
    }
   ],
   "source": [
    "def main():\n",
    "    for i in range(11):\n",
    "        if i % 2 == 0:\n",
    "            print(f\"{i} is Even\", end=\", \")\n",
    "        else:\n",
    "            print(f\"{i} is Odd\", end=\", \")\n",
    "            \n",
    "main()"
   ]
  },
  {
   "cell_type": "markdown",
   "metadata": {},
   "source": [
    "# ***06_print_divisor***"
   ]
  },
  {
   "cell_type": "code",
   "execution_count": 112,
   "metadata": {},
   "outputs": [
    {
     "name": "stdout",
     "output_type": "stream",
     "text": [
      "Here are the Divisors of your number: 70\n",
      "1, 2, 5, 7, 10, 14, 35, 70, "
     ]
    }
   ],
   "source": [
    "def divisor(number):\n",
    "    print(f\"Here are the Divisors of your number: {number}\")\n",
    "    for i in range(1 , number + 1):\n",
    "        if number % i == 0:\n",
    "            print(i, end=\", \")\n",
    "\n",
    "def main():\n",
    "    user_input = int(input(\"Enter only a numbers here: \"))\n",
    "    divisor(user_input)\n",
    "\n",
    "main()"
   ]
  },
  {
   "cell_type": "markdown",
   "metadata": {},
   "source": [
    "# ***07_print_multiple***"
   ]
  },
  {
   "cell_type": "code",
   "execution_count": 116,
   "metadata": {},
   "outputs": [
    {
     "name": "stdout",
     "output_type": "stream",
     "text": [
      "Hi Rafay, Hi Rafay, Hi Rafay, Hi Rafay, Hi Rafay, "
     ]
    }
   ],
   "source": [
    "def print_multiple(message , repeate):\n",
    "    for i in range(repeate):\n",
    "        print(message, end=\", \")\n",
    "\n",
    "def main():\n",
    "    message = input(\"Enter your message\")\n",
    "    repeat = int(input(\"How many time you want to repeat this message? \"))\n",
    "    print_multiple(message, repeat)\n",
    "    \n",
    "main()"
   ]
  },
  {
   "cell_type": "markdown",
   "metadata": {},
   "source": [
    "# ***08_sentence_generator***"
   ]
  },
  {
   "cell_type": "code",
   "execution_count": 118,
   "metadata": {},
   "outputs": [
    {
     "name": "stdout",
     "output_type": "stream",
     "text": [
      "Is this a noun, verb, or adjective?\n",
      "Parts of speech must be (1 , 2 and 3), \n",
      "Can't generate sentence\n"
     ]
    }
   ],
   "source": [
    "def sentence_generator(word, part_of_speech):\n",
    "    if part_of_speech == 1:\n",
    "        print(f\"I am excited to add this {word} to my vast collection of them!\")\n",
    "    elif part_of_speech == 2:\n",
    "        print(f\"It's so nice outside today it makes me want to {word} !\")\n",
    "    elif part_of_speech == 3:\n",
    "        print(f\"Looking out my window, the sky is big and {word} !\")\n",
    "    else:\n",
    "        print(\"Parts of speech must be (1 , 2 and 3), \\nCan't generate sentence\")\n",
    "        \n",
    "def main():\n",
    "    word_input = input(\"Please type a noun, verb, or adjective: \")\n",
    "    print(\"Is this a noun, verb, or adjective?\")\n",
    "    \n",
    "    speech_input = int(input(\"Type 1 for noun, 2 for verb, 3 for adjective: \"))\n",
    "    \n",
    "    sentence_generator(word_input, speech_input)\n",
    "\n",
    "main()"
   ]
  },
  {
   "cell_type": "markdown",
   "metadata": {},
   "source": [
    "# ***09_print_ones_digit***"
   ]
  },
  {
   "cell_type": "code",
   "execution_count": 120,
   "metadata": {},
   "outputs": [
    {
     "name": "stdout",
     "output_type": "stream",
     "text": [
      "The ones digit of your number is: 7\n"
     ]
    }
   ],
   "source": [
    "def print_ones_digit(num):\n",
    "    print(f\"The ones digit of your number is: {num % 10}\")\n",
    "    \n",
    "def main():\n",
    "    user_input = int(input(\"Enter a number\"))\n",
    "    print_ones_digit(user_input)\n",
    "\n",
    "main()"
   ]
  }
 ],
 "metadata": {
  "kernelspec": {
   "display_name": "Python 3",
   "language": "python",
   "name": "python3"
  },
  "language_info": {
   "codemirror_mode": {
    "name": "ipython",
    "version": 3
   },
   "file_extension": ".py",
   "mimetype": "text/x-python",
   "name": "python",
   "nbconvert_exporter": "python",
   "pygments_lexer": "ipython3",
   "version": "3.13.2"
  }
 },
 "nbformat": 4,
 "nbformat_minor": 2
}
