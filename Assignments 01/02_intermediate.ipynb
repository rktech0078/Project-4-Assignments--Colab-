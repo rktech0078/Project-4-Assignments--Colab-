{
 "cells": [
  {
   "cell_type": "markdown",
   "metadata": {},
   "source": [
    "# ***Control Flow for Console***\n",
    "# *handout: [High and low game]*"
   ]
  },
  {
   "cell_type": "code",
   "execution_count": null,
   "metadata": {},
   "outputs": [
    {
     "name": "stdout",
     "output_type": "stream",
     "text": [
      "Welcome to the High-Low Game!\n",
      "--------------------------------\n"
     ]
    },
    {
     "name": "stdout",
     "output_type": "stream",
     "text": [
      "\n",
      "Your Generated Random Number is: 43\n",
      "\n",
      "Correct Guess, You got 1 score 🎉\n",
      "\n",
      "Your Generated Random Number is: 56\n",
      "\n",
      "Correct Guess, You got 1 score 🎉\n",
      "\n",
      "Game Over! Your score is: 2/2\n"
     ]
    }
   ],
   "source": [
    "import random\n",
    "\n",
    "print(\"Welcome to the High-Low Game!\")\n",
    "print('--------------------------------')\n",
    "\n",
    "def high_low_game(rounds):\n",
    "    \n",
    "    score = 0\n",
    "    \n",
    "    for i in range(rounds):\n",
    "        \n",
    "        user_num = random.randint(1 , 100)\n",
    "        computer_num = random.randint(1 , 100)\n",
    "        \n",
    "        print(f\"\\nYour Generated Random Number is: {user_num}\")\n",
    "        \n",
    "        user_guess = input(\"Type [high], if your number is higher than computer or \\nType [low], if your number is lower than computer\").strip().lower()\n",
    "        \n",
    "        if (user_guess == 'high' and user_num > computer_num) or (user_guess == 'low' and user_num < computer_num):\n",
    "            print(\"\\nCorrect Guess, You got 1 score 🎉\")\n",
    "            score += 1\n",
    "        else:\n",
    "            print(f\"\\nBad Luck Because the computer number is: {computer_num}\")\n",
    "            \n",
    "    print(f\"\\nGame Over! Your score is: {score}/{rounds}\")\n",
    "    \n",
    "total_round = int(input(\"Enter how many rounds you wand to play\"))\n",
    "high_low_game(total_round)\n",
    "    \n",
    "\n",
    "        "
   ]
  },
  {
   "cell_type": "markdown",
   "metadata": {},
   "source": [
    "# ***Intro to Python***\n",
    "# *Planetary Weight Calculator*"
   ]
  },
  {
   "cell_type": "markdown",
   "metadata": {},
   "source": [
    "# **Milestone #1: Mars Weight**"
   ]
  },
  {
   "cell_type": "code",
   "execution_count": 6,
   "metadata": {},
   "outputs": [
    {
     "name": "stdout",
     "output_type": "stream",
     "text": [
      "Your Weight on Mars is: 21.92 KG.\n"
     ]
    }
   ],
   "source": [
    "users_earth_weight = float(input(\"Enter your weight on Earth in KG\"))\n",
    "mars_weight = users_earth_weight * 0.378\n",
    "mars_weight = round(mars_weight, 2)\n",
    "print(f\"Your Weight on Mars is: {mars_weight} KG.\")"
   ]
  },
  {
   "cell_type": "markdown",
   "metadata": {},
   "source": [
    "# **Milestone #2: Adding in All Planets**"
   ]
  },
  {
   "cell_type": "code",
   "execution_count": 13,
   "metadata": {},
   "outputs": [
    {
     "name": "stdout",
     "output_type": "stream",
     "text": [
      "Your Weight on Jupiter is: 13.69 KG.\n"
     ]
    }
   ],
   "source": [
    "Mercury = 0.376\n",
    "Venus = 0.889\n",
    "Mars = 0.378\n",
    "Jupiter = 0.236\n",
    "Saturn = 0.108\n",
    "Uranus = 0.815\n",
    "Neptune = 0.114\n",
    "\n",
    "def main():\n",
    "    \n",
    "    users_earth_weight = float(input(\"Enter Your Weight on Earth in KG.\"))\n",
    "    users_planet_weight = str(input(\"Type your desired planet, e.g: 'jupiter'\")).strip().lower()\n",
    "    \n",
    "    if users_planet_weight == 'mercury':\n",
    "        mercury = users_earth_weight * Mercury\n",
    "        print(f\"Your Weight on Mercury is: {mercury:.2f} KG.\")\n",
    "    elif users_planet_weight == 'Venus':\n",
    "        venus = users_earth_weight * Venus\n",
    "        print(f\"Your Weight on Venus is: {venus:.2f} KG.\")\n",
    "    elif users_planet_weight == 'mars':\n",
    "        mars = users_earth_weight * Mars\n",
    "        print(f\"Your Weight on Mars is: {mars:.2f} KG.\")\n",
    "    elif users_planet_weight == 'jupiter':\n",
    "        jupiter = users_earth_weight * Jupiter\n",
    "        print(f\"Your Weight on Jupiter is: {jupiter:.2f} KG.\")\n",
    "    elif users_planet_weight == 'saturn':\n",
    "        saturn = users_earth_weight * Saturn\n",
    "        print(f\"Your Weight on Saturn is: {saturn:.2f} KG.\")\n",
    "    elif users_planet_weight == 'uranus':\n",
    "        uranus = users_earth_weight * Uranus\n",
    "        print(f\"Your Weight on Uranus is: {uranus:.2f} KG.\")\n",
    "    elif users_planet_weight == 'neptune':\n",
    "        neptune = users_earth_weight * Neptune\n",
    "        print(f\"Your Weight on Neptune is: {neptune:.2f} KG.\")\n",
    "    else:\n",
    "        print(\"Enter a correct planet or spellings\")\n",
    "        \n",
    "main()\n"
   ]
  },
  {
   "cell_type": "markdown",
   "metadata": {},
   "source": [
    "# ***Lists and Dictionaries***"
   ]
  },
  {
   "cell_type": "markdown",
   "metadata": {},
   "source": [
    "# *#1: List Practice*"
   ]
  },
  {
   "cell_type": "code",
   "execution_count": 19,
   "metadata": {},
   "outputs": [
    {
     "name": "stdout",
     "output_type": "stream",
     "text": [
      "The Lenght of this list is: 5\n",
      "\n",
      "['apple', 'banana', 'orange', 'grape', 'pineapple', 'mango']\n"
     ]
    }
   ],
   "source": [
    "def main():\n",
    "    \n",
    "    fruit_list = ['apple', 'banana', 'orange', 'grape', 'pineapple']\n",
    "    \n",
    "    # Print the length of the list.\n",
    "    print(f\"The Lenght of this list is: {len(fruit_list)}\\n\")\n",
    "    \n",
    "    # Add 'mango' at the end of the list.\n",
    "    fruit_list.append('mango')\n",
    "    print(fruit_list)\n",
    "    \n",
    "main()"
   ]
  },
  {
   "cell_type": "markdown",
   "metadata": {},
   "source": [
    "# *#2: Index Game*"
   ]
  },
  {
   "cell_type": "code",
   "execution_count": 23,
   "metadata": {},
   "outputs": [
    {
     "name": "stdout",
     "output_type": "stream",
     "text": [
      "\n",
      "Current List: ['apple', 'banana', 'cherry', 'date', 'strawberry']\n",
      "Choose an operation: \n",
      "1 - Access an element\n",
      "2 - Modify an element\n",
      "3 - Slice the list\n",
      "4 - Exit\n",
      "Element: banana\n",
      "\n",
      "Current List: ['apple', 'banana', 'cherry', 'date', 'strawberry']\n",
      "Choose an operation: \n",
      "1 - Access an element\n",
      "2 - Modify an element\n",
      "3 - Slice the list\n",
      "4 - Exit\n",
      "Updated List: ['apple', 'Tomato', 'cherry', 'date', 'strawberry']\n",
      "\n",
      "Current List: ['apple', 'Tomato', 'cherry', 'date', 'strawberry']\n",
      "Choose an operation: \n",
      "1 - Access an element\n",
      "2 - Modify an element\n",
      "3 - Slice the list\n",
      "4 - Exit\n",
      "Sliced List: ['Tomato', 'cherry']\n",
      "\n",
      "Current List: ['apple', 'Tomato', 'cherry', 'date', 'strawberry']\n",
      "Choose an operation: \n",
      "1 - Access an element\n",
      "2 - Modify an element\n",
      "3 - Slice the list\n",
      "4 - Exit\n",
      "Game Over!\n"
     ]
    }
   ],
   "source": [
    "my_list = [\"apple\", \"banana\", \"cherry\", \"date\", \"strawberry\"]\n",
    "\n",
    "def access_element(list , index):\n",
    "    if 0 <= index < len(list):\n",
    "        return list[index]\n",
    "    else: \n",
    "        return \"Index Out of Range\"\n",
    "    \n",
    "\n",
    "def modify_element(list , index, new_value):\n",
    "    if 0 <= index < len(list):\n",
    "        list[index] = new_value\n",
    "        return list\n",
    "    else:\n",
    "        return \"Index out of range\"\n",
    "    \n",
    "\n",
    "def slice_list(list, start, end):\n",
    "    if 0 <= start < len(list) and 0 <= end <= len(list):\n",
    "        return list[start:end]\n",
    "    else:\n",
    "        return \"Invalid index range\"\n",
    "    \n",
    "\n",
    "while True:\n",
    "    print(\"\\nCurrent List:\", my_list)\n",
    "    print(\"Choose an operation: \")\n",
    "    print(\"1 - Access an element\")\n",
    "    print(\"2 - Modify an element\")\n",
    "    print(\"3 - Slice the list\")\n",
    "    print(\"4 - Exit\")\n",
    "    \n",
    "    users_choice = int(input(\"Choose a number b/w (1-4)\"))\n",
    "    \n",
    "    if users_choice == 1:\n",
    "        idx = int(input(\"Enter an index to access list\"))\n",
    "        print(\"Element:\", access_element(my_list, idx))\n",
    "    \n",
    "    elif users_choice == 2:\n",
    "        index = int(input(\"Enter an index to access list\"))\n",
    "        new_value = input(\"Enter new value: \")\n",
    "        print(\"Updated List:\", modify_element(my_list, idx, new_value))\n",
    "        \n",
    "    elif users_choice == 3:\n",
    "        start = int(input(\"Enter start index: \"))\n",
    "        end = int(input(\"Enter end index: \"))\n",
    "        print(\"Sliced List:\", slice_list(my_list, start, end))\n",
    "        \n",
    "    elif users_choice == 4:\n",
    "        print(\"Game Over!\")\n",
    "        break\n",
    "    \n",
    "    else:\n",
    "        print(\"Invalid choice, try again!\")\n",
    "    \n",
    "    \n"
   ]
  }
 ],
 "metadata": {
  "kernelspec": {
   "display_name": "Python 3",
   "language": "python",
   "name": "python3"
  },
  "language_info": {
   "codemirror_mode": {
    "name": "ipython",
    "version": 3
   },
   "file_extension": ".py",
   "mimetype": "text/x-python",
   "name": "python",
   "nbconvert_exporter": "python",
   "pygments_lexer": "ipython3",
   "version": "3.13.2"
  }
 },
 "nbformat": 4,
 "nbformat_minor": 2
}
