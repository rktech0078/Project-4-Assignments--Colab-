{
 "cells": [
  {
   "cell_type": "code",
   "execution_count": null,
   "metadata": {},
   "outputs": [],
   "source": [
    "import random\n",
    "\n",
    "NUM_ROUNDS = 5\n",
    "\n",
    "def main():\n",
    "    print(\"Welcome to the High-Low Game!\")\n",
    "    print('--------------------------------')\n",
    "\n",
    "    # Milestone 5: keep track of your score\n",
    "    your_score = 0\n",
    "\n",
    "    # Milestone 4: Play multiple rounds\n",
    "    for i in range(NUM_ROUNDS):\n",
    "        print(\"Round\", i + 1)\n",
    "        # Milestone 1: Generate the random numbers and print them out\n",
    "        computer_num: int = random.randint(1, 100)\n",
    "        your_num: int = random.randint(1, 100)\n",
    "        print(\"Your number is\", your_num)\n",
    "\n",
    "        # Milestone 2: Get user input for their choice\n",
    "        choice: str = input(\"Do you think your number is higher or lower than the computer's?: \")\n",
    "\n",
    "        # Milestone 3: Map out all the ways to win the round\n",
    "        higher_and_correct: bool = choice == \"higher\" and your_num > computer_num\n",
    "        lower_and_correct: bool = choice == \"lower\" and your_num < computer_num\n",
    "\n",
    "        if higher_and_correct or lower_and_correct:\n",
    "            print(\"You were right! The computer's number was\", computer_num)\n",
    "            # Milestone 5: keep track of your score\n",
    "            your_score += 1 \n",
    "        else: \n",
    "            print(\"Aww, that's incorrect. The computer's number was\", computer_num)\n",
    "\n",
    "        # Milestone 5: keep track of your score\n",
    "        print(\"Your score is now\", your_score)\n",
    "        print()\n",
    "\n",
    "    print(\"Thanks for playing!\")\n",
    "\n",
    "if __name__ == \"__main__\":\n",
    "    main()\n"
   ]
  }
 ],
 "metadata": {
  "kernelspec": {
   "display_name": "Python 3",
   "language": "python",
   "name": "python3"
  },
  "language_info": {
   "codemirror_mode": {
    "name": "ipython",
    "version": 3
   },
   "file_extension": ".py",
   "mimetype": "text/x-python",
   "name": "python",
   "nbconvert_exporter": "python",
   "pygments_lexer": "ipython3",
   "version": "3.13.2"
  }
 },
 "nbformat": 4,
 "nbformat_minor": 2
}
